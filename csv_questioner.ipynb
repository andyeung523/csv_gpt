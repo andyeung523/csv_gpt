{
 "cells": [
  {
   "cell_type": "code",
   "execution_count": 19,
   "metadata": {},
   "outputs": [],
   "source": [
    "import csv\n",
    "import time\n",
    "import openai\n"
   ]
  },
  {
   "cell_type": "code",
   "execution_count": 20,
   "metadata": {},
   "outputs": [],
   "source": [
    "openAiKey= \"44d2b88c17f64433a521037a8b6682eb\"\n",
    "openAiEndpoint = \"https://openai1pwc.openai.azure.com/\"\n",
    "deploymentId = \"Test1\"\n",
    "SLEEP_TIME=2\n",
    "INPUT_PATH=\"input\\\\test.csv\"\n",
    "OUTPUT_PATH=\"output\\\\output.csv\"\n",
    "function_name=\"test_function_01\"\n",
    "PROMPT=f\"For the following test case requirement of a function name \\\"{function_name}\\\", write the python test function for it. reply ONLY the python code, no explain needed\"\n",
    "CONTEXT=\"You are a helpful assistant for IT testing\"\n",
    "\n",
    "client = openai.AzureOpenAI(\n",
    "    azure_endpoint =f\"{openAiEndpoint}\",\n",
    "    api_key=openAiKey,\n",
    "    api_version=\"2023-09-01-preview\"\n",
    ")"
   ]
  },
  {
   "cell_type": "code",
   "execution_count": 21,
   "metadata": {},
   "outputs": [
    {
     "name": "stdout",
     "output_type": "stream",
     "text": [
      "For the following test case requirement of a function name \"test_function_01\", write the python test function for it. reply ONLY the python code, no explain needed : Test Case 1: Testing if a function returns the correct output for a given input.\n",
      "Input: 5\n",
      "Expected Output: 25\n",
      "def test_function_01():\n",
      "    input = 5\n",
      "    expected_output = 25\n",
      "\n",
      "    assert test_function(input) == expected_output\n",
      "\n",
      "                  --------------------\n",
      "                  \n",
      "For the following test case requirement of a function name \"test_function_01\", write the python test function for it. reply ONLY the python code, no explain needed : Test Case 2: Testing if a function handles edge cases correctly.\n",
      "Input: 0\n",
      "Expected Output: 0\n",
      "def test_function_01():\n",
      "    assert test_function(0) == 0\n",
      "\n",
      "                  --------------------\n",
      "                  \n",
      "For the following test case requirement of a function name \"test_function_01\", write the python test function for it. reply ONLY the python code, no explain needed : Test Case 3: Testing if a function handles negative numbers correctly.\n",
      "Input: -3\n",
      "Expected Output: 9\n",
      "def test_function_01():\n",
      "    input_num = -3\n",
      "    expected_output = 9\n",
      "\n",
      "    assert test_function(input_num) == expected_output\n",
      "\n",
      "                  --------------------\n",
      "                  \n",
      "For the following test case requirement of a function name \"test_function_01\", write the python test function for it. reply ONLY the python code, no explain needed : Test Case 4: Testing if a function handles string inputs correctly.\n",
      "Input: \"hello\"\n",
      "Expected Output: \"olleh\"\n",
      "def test_function_01():\n",
      "    input_str = \"hello\"\n",
      "    expected_output = \"olleh\"\n",
      "    assert function_name(input_str) == expected_output\n",
      "\n",
      "                  --------------------\n",
      "                  \n",
      "For the following test case requirement of a function name \"test_function_01\", write the python test function for it. reply ONLY the python code, no explain needed : Test Case 5: Testing if a function handles empty input correctly.\n",
      "Input: \"\"\n",
      "Expected Output: \"\"\n",
      "def test_function_01():\n",
      "    input = \"\"\n",
      "    expected_output = \"\"\n",
      "    \n",
      "    assert test_function(input) == expected_output\n",
      "\n",
      "                  --------------------\n",
      "                  \n"
     ]
    }
   ],
   "source": [
    "def call_endpoint(input_csv_path, output_csv_path, prompt):\n",
    "    with open(input_csv_path, 'r') as input_file, open(output_csv_path, 'w', newline='') as output_file:\n",
    "        reader = csv.reader(input_file)\n",
    "        writer = csv.writer(output_file)\n",
    "        for row in reader:\n",
    "            p = prompt  + \" : \" + row[0]\n",
    "            print(p)\n",
    "            messages = [\n",
    "                {\"role\": \"system\", \"content\": CONTEXT},\n",
    "                {\"role\": \"user\", \"content\": p}\n",
    "            ]\n",
    "            completion = client.chat.completions.create(\n",
    "              model=\"Test1\", # model = \"deployment_name\"\n",
    "              messages = messages,\n",
    "              temperature=0.7,\n",
    "              max_tokens=800,\n",
    "              top_p=0.95,\n",
    "              frequency_penalty=0,\n",
    "              presence_penalty=0,\n",
    "              stop=None\n",
    "            )\n",
    "            time.sleep(SLEEP_TIME)\n",
    "            output_text = completion.choices[0].message.content\n",
    "            print(output_text)\n",
    "            writer.writerow([output_text])\n",
    "            print(\"\"\"\n",
    "                  --------------------\n",
    "                  \"\"\")\n",
    "\n",
    "\n",
    "call_endpoint(INPUT_PATH,OUTPUT_PATH, prompt=PROMPT)"
   ]
  },
  {
   "cell_type": "code",
   "execution_count": null,
   "metadata": {},
   "outputs": [],
   "source": []
  },
  {
   "cell_type": "code",
   "execution_count": null,
   "metadata": {},
   "outputs": [],
   "source": []
  }
 ],
 "metadata": {
  "kernelspec": {
   "display_name": "Python 3",
   "language": "python",
   "name": "python3"
  },
  "language_info": {
   "codemirror_mode": {
    "name": "ipython",
    "version": 3
   },
   "file_extension": ".py",
   "mimetype": "text/x-python",
   "name": "python",
   "nbconvert_exporter": "python",
   "pygments_lexer": "ipython3",
   "version": "3.11.2"
  },
  "orig_nbformat": 4
 },
 "nbformat": 4,
 "nbformat_minor": 2
}
