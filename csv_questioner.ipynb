{
 "cells": [
  {
   "cell_type": "code",
   "execution_count": 15,
   "metadata": {},
   "outputs": [],
   "source": [
    "import csv\n",
    "import time\n",
    "import openai\n"
   ]
  },
  {
   "cell_type": "code",
   "execution_count": 16,
   "metadata": {},
   "outputs": [],
   "source": [
    "openai.api_key = \"\"\n",
    "SLEEP_TIME=2\n",
    "INPUT_PATH=\"input\\\\test.csv\"\n",
    "OUTPUT_PATH=\"output\\\\output.csv\"\n",
    "PROMPT=\"For the following risk, suggest one recommendation\"\n",
    "CONTEXT=\"You are a helpful assistant for an IT consulting company.\""
   ]
  },
  {
   "cell_type": "code",
   "execution_count": 17,
   "metadata": {},
   "outputs": [
    {
     "name": "stdout",
     "output_type": "stream",
     "text": [
      "For the following risk, suggest one recommendation : Inadequate risk analysis may lead to unforeseen consequences and potential disruptions to the system or operations.\n",
      "For the following risk, suggest one recommendation : Without a well-defined test plan, changes may be implemented without proper validation, leading to errors or failures.\n",
      "For the following risk, suggest one recommendation : Lack of clear and detailed work notes can hamper traceability, troubleshooting, and knowledge transfer during and after change implementation.\n",
      "For the following risk, suggest one recommendation : Inconsistent or unspecified Configuration Item values can lead to confusion, miscommunication, and inaccurate impact analysis.\n",
      "For the following risk, suggest one recommendation : Insufficient or vague descriptions and implementation plans can result in misinterpretation, improper execution, and delays.\n",
      "For the following risk, suggest one recommendation : Ambiguity regarding the responsible person for change implementation can lead to miscommunication and accountability issues.\n",
      "For the following risk, suggest one recommendation : Changes implemented outside the designated change window may cause conflicts, disruptions, and increased risks to operations.\n",
      "For the following risk, suggest one recommendation : Absence of timestamps in implementation steps can hinder accurate tracking, troubleshooting, and historical analysis of change activities.\n",
      "For the following risk, suggest one recommendation : Unclear or missing blackout and fallback plans can result in inadequate response and recovery strategies during critical periods or unexpected issues.\n"
     ]
    }
   ],
   "source": [
    "def call_endpoint(input_csv_path, output_csv_path, prompt):\n",
    "    with open(input_csv_path, 'r') as input_file, open(output_csv_path, 'w', newline='') as output_file:\n",
    "        reader = csv.reader(input_file)\n",
    "        writer = csv.writer(output_file)\n",
    "        for row in reader:\n",
    "            p = prompt  + \" : \" + row[0]\n",
    "            print(p)\n",
    "            messages = [\n",
    "                {\"role\": \"system\", \"content\": CONTEXT},\n",
    "                {\"role\": \"user\", \"content\": p}\n",
    "            ]\n",
    "            completion = openai.ChatCompletion.create(\n",
    "                model=\"gpt-3.5-turbo\",\n",
    "                messages=messages\n",
    "            )\n",
    "            time.sleep(SLEEP_TIME)\n",
    "            output_text = completion.choices[0].message.content\n",
    "            writer.writerow([output_text])\n",
    "\n",
    "\n",
    "call_endpoint(INPUT_PATH,OUTPUT_PATH, prompt=PROMPT)"
   ]
  },
  {
   "cell_type": "code",
   "execution_count": null,
   "metadata": {},
   "outputs": [],
   "source": []
  }
 ],
 "metadata": {
  "kernelspec": {
   "display_name": "Python 3",
   "language": "python",
   "name": "python3"
  },
  "language_info": {
   "codemirror_mode": {
    "name": "ipython",
    "version": 3
   },
   "file_extension": ".py",
   "mimetype": "text/x-python",
   "name": "python",
   "nbconvert_exporter": "python",
   "pygments_lexer": "ipython3",
   "version": "3.11.2"
  },
  "orig_nbformat": 4
 },
 "nbformat": 4,
 "nbformat_minor": 2
}
