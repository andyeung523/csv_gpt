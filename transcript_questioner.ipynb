{
 "cells": [
  {
   "cell_type": "code",
   "execution_count": 21,
   "metadata": {},
   "outputs": [],
   "source": [
    "import csv\n",
    "import time\n",
    "import openai\n",
    "from langchain.document_loaders import TextLoader\n",
    "from langchain.text_splitter import RecursiveCharacterTextSplitter\n",
    "from langchain.llms import OpenAI\n",
    "from langchain.document_loaders import PyPDFLoader, TextLoader\n",
    "from langchain.embeddings.openai import OpenAIEmbeddings\n",
    "from langchain.text_splitter import (\n",
    "    RecursiveCharacterTextSplitter,\n",
    "    CharacterTextSplitter,\n",
    ")\n",
    "from langchain.vectorstores import DeepLake\n",
    "from langchain.chains import ConversationalRetrievalChain, RetrievalQA\n",
    "from langchain.chat_models import ChatOpenAI\n",
    "from langchain.llms import OpenAI\n",
    "\n",
    "from langchain.chains import RetrievalQA\n",
    "from langchain.indexes import VectorstoreIndexCreator\n",
    "from langchain.text_splitter import CharacterTextSplitter\n",
    "from langchain.embeddings import OpenAIEmbeddings\n",
    "from langchain.vectorstores import Chroma\n",
    "import json"
   ]
  },
  {
   "cell_type": "code",
   "execution_count": 32,
   "metadata": {},
   "outputs": [],
   "source": [
    "OPENAI_API_KEY= \"\"\n",
    "openai.api_key = OPENAI_API_KEY\n",
    "SLEEP_TIME=2\n",
    "INPUT_PATH=\"input\\\\test.csv\"\n",
    "OUTPUT_PATH=\"output\\\\output.csv\"\n",
    "PROMPT=\"Summarize the conversation with detailed information and speaker using point form:   \"\n",
    "CONTEXT=\"You are a helpful assistant for summarizing a meeting transcript.\"\n",
    "TRANSCRIPT_PATH=\"trans\\\\chat_session.pdf\""
   ]
  },
  {
   "cell_type": "code",
   "execution_count": 33,
   "metadata": {},
   "outputs": [],
   "source": [
    "# load document\n",
    "from langchain.document_loaders import PyPDFLoader\n",
    "loader = PyPDFLoader(TRANSCRIPT_PATH)\n",
    "documents = loader.load()"
   ]
  },
  {
   "cell_type": "code",
   "execution_count": 34,
   "metadata": {},
   "outputs": [],
   "source": [
    "# split the documents into chunks\n",
    "text_splitter = CharacterTextSplitter(chunk_size=1000, chunk_overlap=0)\n",
    "texts = text_splitter.split_documents(documents)\n",
    "# select which embeddings we want to use\n",
    "embeddings = OpenAIEmbeddings()\n",
    "# create the vectorestore to use as the index\n",
    "db = Chroma.from_documents(texts, embeddings)\n",
    "# expose this index in a retriever interface\n",
    "retriever = db.as_retriever(search_type=\"similarity\", search_kwargs={\"k\":2})\n",
    "# create a chain to answer questions \n",
    "qa = RetrievalQA.from_chain_type(\n",
    "    llm=OpenAI(), chain_type=\"stuff\", retriever=retriever, return_source_documents=True)\n"
   ]
  },
  {
   "cell_type": "code",
   "execution_count": 35,
   "metadata": {},
   "outputs": [
    {
     "name": "stdout",
     "output_type": "stream",
     "text": [
      "Summarize the conversation with detailed information and speaker using point form:    : Certain regional offices (Singapore, Japan, Cambodia, Philipines, China) are currently adopting different change management systems, but they are in the process of migrating to ServiceNow to establish standardized control and processes.\n",
      "Summarize the conversation with detailed information and speaker using point form:    : The current change management process lacks a formal communication plan to adequately inform stakeholders and business owners about change implementations.\n",
      "Summarize the conversation with detailed information and speaker using point form:    : Currently, there is a lack of regular reviews of implemented production changes to verify adherence to approval, testing, and review procedures. \n",
      "Summarize the conversation with detailed information and speaker using point form:    : The current change management process lacks clarity in the process for conducting risk and impact assessments.\n",
      "Summarize the conversation with detailed information and speaker using point form:    : There is a lack of clarity regarding the review and assessment process of the Change Advisory Board (CAB) in the current change management process.\n",
      "Summarize the conversation with detailed information and speaker using point form:    : The current change management process lacks the ability to trace implementation logs of production changes to change tickets, including resource changes and access control details. \n",
      "Summarize the conversation with detailed information and speaker using point form:    : There is a lack of clarity in the current change management process regarding the assignment of an owner to validate the accurate implementation of changes.\n",
      "Summarize the conversation with detailed information and speaker using point form:    : There is an absence of a standardized checklist for verifying compliance and risk factors specifically for changes impacting the cloud environment.\n",
      "Summarize the conversation with detailed information and speaker using point form:    : Change implementation is done manually on the cloud console without utilizing scripts or IaC.\n",
      "Summarize the conversation with detailed information and speaker using point form:    : No evidence of restricted access for change implementers.\n",
      "Summarize the conversation with detailed information and speaker using point form:    : Access is not granted temporarily coinciding with the implementation window and not revoked immediately after implementation.\n",
      "Summarize the conversation with detailed information and speaker using point form:    : Implementers do not use a jump server or restricted network for controlled network access.\n",
      "Summarize the conversation with detailed information and speaker using point form:    : There is a gap in the implementation of an effective traceability mechanism that links change tickets to the specific actions performed on the cloud or other systems. The analysis does not provide any evidence or mention of such a mechanism being implemented.\n",
      "Summarize the conversation with detailed information and speaker using point form:    : It is not observed as a common or standardized practice to incorporate automated testing in the CI/CD pipelines to validate changes before deployment to the production environment.\n",
      "Summarize the conversation with detailed information and speaker using point form:    : The utilization of CI/CD pipelines is not extensively observed in the current practices.\n",
      "Summarize the conversation with detailed information and speaker using point form:    : The current guidelines provide limited direction on how to determine when a maintenance window is required, taking into account business cycles and user activity. \n",
      "Summarize the conversation with detailed information and speaker using point form:    : The current change governance framework lacks explicit guidance on the need to ensure that test results align with the expected outcomes detailed in the test plans.\n",
      "Summarize the conversation with detailed information and speaker using point form:    : It is unclear whether FWD has a defined process or template for creating and documenting implementation plans.\n",
      "Summarize the conversation with detailed information and speaker using point form:    : The inclusion of an executable and tested rollback plan for every change is not consistently enforced. There is inconsistency in the adherence to this requirement, as evidenced by the change ticket review.\n",
      "Summarize the conversation with detailed information and speaker using point form:    : The change tickets and implementation plans do not consistently include adequate testing steps to validate change success before and after deployment. \n",
      "Summarize the conversation with detailed information and speaker using point form:    : The implementation plans may not consistently identify all prerequisites and dependencies for each task.\n",
      "Summarize the conversation with detailed information and speaker using point form:    : The implementation plans do not clearly define success criteria for the completion of each task and for the overall change implementation.\n",
      "Summarize the conversation with detailed information and speaker using point form:    : The implementation plans do not consistently include high-level rollback steps to revert the system or application in the event of issues. \n",
      "Summarize the conversation with detailed information and speaker using point form:    : The comprehensive risk assessments for all changes, as required by the control, are not consistently performed and documented. \n"
     ]
    }
   ],
   "source": [
    "def call_endpoint(input_csv_path, output_csv_path, prompt):\n",
    "    with open(input_csv_path, 'r') as input_file, open(output_csv_path, 'w', newline='') as output_file:\n",
    "        reader = csv.reader(input_file)\n",
    "        writer = csv.writer(output_file)\n",
    "        for row in reader:\n",
    "            p = prompt  + \" : \" + row[0]\n",
    "            print(p)\n",
    "            # messages = [\n",
    "            #     {\"role\": \"system\", \"content\": CONTEXT},\n",
    "            #     {\"role\": \"user\", \"content\": p}\n",
    "            # ]\n",
    "            # completion = openai.ChatCompletion.create(\n",
    "            #     model=\"gpt-3.5-turbo\",\n",
    "            #     messages=messages\n",
    "            # )\n",
    "            # time.sleep(SLEEP_TIME)\n",
    "            # output_text = completion.choices[0].message.content\n",
    "            result = qa({\"query\": p})\n",
    "            output_text= result['result']\n",
    "            writer.writerow([output_text])\n",
    "\n",
    "\n",
    "call_endpoint(INPUT_PATH,OUTPUT_PATH, prompt=PROMPT)"
   ]
  },
  {
   "cell_type": "code",
   "execution_count": null,
   "metadata": {},
   "outputs": [],
   "source": []
  }
 ],
 "metadata": {
  "kernelspec": {
   "display_name": "Python 3",
   "language": "python",
   "name": "python3"
  },
  "language_info": {
   "codemirror_mode": {
    "name": "ipython",
    "version": 3
   },
   "file_extension": ".py",
   "mimetype": "text/x-python",
   "name": "python",
   "nbconvert_exporter": "python",
   "pygments_lexer": "ipython3",
   "version": "3.11.2"
  },
  "orig_nbformat": 4
 },
 "nbformat": 4,
 "nbformat_minor": 2
}
